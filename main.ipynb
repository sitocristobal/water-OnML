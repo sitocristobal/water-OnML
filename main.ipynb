{
 "cells": [
  {
   "attachments": {},
   "cell_type": "markdown",
   "metadata": {},
   "source": [
    "# Data exploration\n",
    "This file contains several methods for data exploration. These will be baby steps but they can be quite important in getting a sense of what out data looks like.\n",
    "## What kind of data?\n",
    "Initialy, we will be using water quality time-series data record every 15 mins at a particular station (Gallego en Villanueva) in the Ebro river, Spain. The variables available are:\n",
    "\n",
    "1. Ammonium.\n",
    "2. Conductivity.\n",
    "3. Dissolved oxygen.\n",
    "4. pH.\n",
    "5. Turbidity.\n",
    "6. Water level.\n",
    "7. Water temperature.\n",
    "Water temperature.\n",
    "\n",
    "All data is available in the [data repo](https://github.com/xrigueira/data)."
   ]
  },
  {
   "cell_type": "code",
   "execution_count": null,
   "metadata": {},
   "outputs": [],
   "source": [
    "# Load the preprocessed data\n",
    "import numpy as np\n",
    "import pandas as pd\n",
    "print('Hiya papaya')\n",
    "\n"
   ]
  }
 ],
 "metadata": {
  "language_info": {
   "name": "python"
  },
  "orig_nbformat": 4
 },
 "nbformat": 4,
 "nbformat_minor": 2
}
